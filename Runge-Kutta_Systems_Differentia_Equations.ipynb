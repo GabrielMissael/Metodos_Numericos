{
 "cells": [
  {
   "cell_type": "raw",
   "metadata": {},
   "source": [
    "#Ejericico a\n",
    "a = 0\n",
    "b = 1\n",
    "m = 2\n",
    "h = 0.1\n",
    "N = int((b-a)/h)+1\n",
    "al = [0, 0]\n",
    "def f(r, t, x):\n",
    "    if r == m-1:\n",
    "        return t*e**t - t + 2*x[1] - x[0]\n",
    "    else:\n",
    "        return x[r+1]\n",
    "x = np.arange(a, b, 0.0001)\n",
    "def y(x):\n",
    "    return (1/6)*(x**3)*(e**x) - x*e**x + 2*e**x - x -2\n",
    "yy = y(x)\n",
    "\n",
    "#Ejericico B\n",
    "a = 1\n",
    "b = 2\n",
    "m = 2\n",
    "h = 0.1\n",
    "N = int((b-a)/h)+1\n",
    "al = [1, 0]\n",
    "def f(r, t, x):\n",
    "    if r == m-1:\n",
    "        return (1/(t**2))*(t**3*mt.log(t) - 2*x[0] + 2*t*x[1])\n",
    "    else:\n",
    "        return x[r+1]\n",
    "x = np.arange(a, b, 0.0001)\n",
    "def y(x):\n",
    "    return (7/4)*x + (1/2)*x**3*np.log(x) -  (3/4)*x**3\n",
    "yy = y(x)\n",
    "\n",
    "#Ejericico C\n",
    "a = 0\n",
    "b = 3\n",
    "m = 3\n",
    "h = 0.2\n",
    "N = int((b-a)/h)+1\n",
    "al = [1, 2, 0]\n",
    "def f(r, t, x):\n",
    "    if r == m-1:\n",
    "        return e**t + 2*x[0] + x[1] - 2*x[2]\n",
    "    else:\n",
    "        return x[r+1]\n",
    "x = np.arange(a, b, 0.0001)\n",
    "def y(x):\n",
    "    return (43/36)*e**x + (1/4)*e**(-x) - (4/9)*e**(-2*x) + (1/6)*x*e**x\n",
    "yy = y(x)\n",
    "\n",
    "#Ejericico D\n",
    "a = 1\n",
    "b = 2\n",
    "m = 3\n",
    "h = 0.1\n",
    "N = int((b-a)/h)+1\n",
    "al = [0, 1, 3]\n",
    "def f(r, t, x):\n",
    "    if r == m-1:\n",
    "        return (1/t**(3))*(5*t**3*mt.log(t) + 9*t**3 + 4*x[0] - 3*t*x[1] + t**2*x[2])\n",
    "    else:\n",
    "        return x[r+1]\n",
    "x = np.arange(a, b, 0.0001)\n",
    "def y(x):\n",
    "    return -x**2 + x*np.cos(np.log(x)) + x*np.sin(np.log(x)) + x**3*np.log(x)\n",
    "yy = y(x)"
   ]
  },
  {
   "cell_type": "code",
   "execution_count": 60,
   "metadata": {},
   "outputs": [],
   "source": [
    "import numpy as np\n",
    "import matplotlib.pyplot as plt\n",
    "import math as mt\n",
    "\n",
    "e = 2.7182818284590452353602874713527\n",
    " \n",
    "#Ejericico a\n",
    "a = 0\n",
    "b = 1\n",
    "m = 2\n",
    "h = 0.1\n",
    "N = int((b-a)/h)+1\n",
    "al = [0, 0]\n",
    "def f(r, t, x):\n",
    "    if r == m-1:\n",
    "        return t*e**t - t + 2*x[1] - x[0]\n",
    "    else:\n",
    "        return x[r+1]\n",
    "x = np.arange(a, b, 0.0001)\n",
    "def y(x):\n",
    "    return (1/6)*(x**3)*(e**x) - x*e**x + 2*e**x - x -2\n",
    "yy = y(x)\n",
    "    \n",
    "k = np.zeros((4, m))\n",
    "w = np.zeros((N, m))\n",
    "t = np.zeros(N)\n",
    "aux = np.zeros(m)\n",
    "\n",
    "t[0] = a\n",
    "\n",
    "#STEP 2\n",
    "for i in range(m):\n",
    "    w[0][i] = al[i]\n",
    "\n",
    "#STEP 4\n",
    "for i in range(N):\n",
    "    #STEP 5\n",
    "    for j in range(m):\n",
    "        for g in range(m):\n",
    "            aux[g] = w[i][g]\n",
    "        k[0][j] = h*f(j, t[i], aux)\n",
    "        \n",
    "    #STEP 6\n",
    "    for j in range(m):\n",
    "        for g in range(m):\n",
    "            aux[g] = w[i][g] + (1/2)*k[0][g]\n",
    "        k[1][j] = h*f(j, t[i]+h/2, aux)\n",
    "        \n",
    "    #STEP 7\n",
    "    for j in range(m):\n",
    "        for g in range(m):\n",
    "            aux[g] = w[i][g] + (1/2)*k[1][g]\n",
    "        k[2][j] = h*f(j, t[i]+h/2, aux)\n",
    "        \n",
    "    #STEP 8\n",
    "    for j in range(m):\n",
    "        for g in range(m):\n",
    "            aux[g] = w[i][g] + k[2][g]\n",
    "        k[3][j] = h*f(j, t[i]+h, aux)\n",
    "        \n",
    "    #STEP 9\n",
    "    if i+1 < N:\n",
    "        for j in range(m):\n",
    "            w[i+1][j] = w[i][j] + (1/6)*(k[0][j] + 2*k[1][j] + 2*k[2][j] + k[3][j])\n",
    "        t[i+1] = a + (i+1)*h"
   ]
  },
  {
   "cell_type": "code",
   "execution_count": 61,
   "metadata": {},
   "outputs": [
    {
     "data": {
      "text/plain": [
       "Text(0.5, 1.0, 'Ejercicio A')"
      ]
     },
     "execution_count": 61,
     "metadata": {},
     "output_type": "execute_result"
    },
    {
     "data": {
      "image/png": "[encoded data removed]",
      "text/plain": [
       "<Figure size 432x288 with 1 Axes>"
      ]
     },
     "metadata": {
      "needs_background": "light"
     },
     "output_type": "display_data"
    }
   ],
   "source": [
    "jelp = np.zeros(N)\n",
    "for i in range(N):\n",
    "    jelp[i] = w[i][0]\n",
    "\n",
    "#Grafico la aprox por Runge-Kutta\n",
    "plt.plot(t, jelp, \"o-\", label=\"Runge-Kutta\")\n",
    "\n",
    "#Grafico solución real \n",
    "plt.plot(x, yy, \"-\", label=\"Solución real\")\n",
    "\n",
    "#Agrego etiquetas de la grafica\n",
    "plt.legend(loc = \"upper left\")\n",
    "plt.title(\"Ejercicio A\")"
   ]
  },
  {
   "cell_type": "code",
   "execution_count": 62,
   "metadata": {},
   "outputs": [
    {
     "name": "stdout",
     "output_type": "stream",
     "text": [
      "Runge-Kutta error \n",
      " N \t\t t_i \t\t w_i \t\t y_i \t\t Error\n",
      "1.000000 \t 0.000000 \t 0.000000 \t 0.000000 \t 0.000000\n",
      "2.000000 \t 0.100000 \t 0.000009 \t 0.000009 \t 0.000000\n",
      "3.000000 \t 0.200000 \t 0.000154 \t 0.000154 \t 0.000000\n",
      "4.000000 \t 0.300000 \t 0.000834 \t 0.000834 \t 0.000000\n",
      "5.000000 \t 0.400000 \t 0.002832 \t 0.002832 \t 0.000000\n",
      "6.000000 \t 0.500000 \t 0.007430 \t 0.007430 \t 0.000001\n",
      "7.000000 \t 0.600000 \t 0.016561 \t 0.016563 \t 0.000001\n",
      "8.000000 \t 0.700000 \t 0.032996 \t 0.032998 \t 0.000002\n",
      "9.000000 \t 0.800000 \t 0.060559 \t 0.060562 \t 0.000003\n",
      "10.000000 \t 0.900000 \t 0.104401 \t 0.104405 \t 0.000004\n",
      "11.000000 \t 1.000000 \t 0.171322 \t 0.171329 \t 0.000007\n"
     ]
    }
   ],
   "source": [
    "print(\"Runge-Kutta error \\n N \\t\\t t_i \\t\\t w_i \\t\\t y_i \\t\\t Error\")\n",
    "for i in range(N):\n",
    "    print(\"{:.6f} \\t {:.6f} \\t {:.6f} \\t {:.6f} \\t {:.6f}\".format(i+1, t[i], w[i][0], y(t[i]), abs(w[i][0]-y(t[i]))))"
   ]
  },
  {
   "cell_type": "code",
   "execution_count": null,
   "metadata": {},
   "outputs": [],
   "source": []
  },
  {
   "cell_type": "code",
   "execution_count": null,
   "metadata": {},
   "outputs": [],
   "source": []
  }
 ],
 "metadata": {
  "kernelspec": {
   "display_name": "Python 3",
   "language": "python",
   "name": "python3"
  },
  "language_info": {
   "codemirror_mode": {
    "name": "ipython",
    "version": 3
   },
   "file_extension": ".py",
   "mimetype": "text/x-python",
   "name": "python",
   "nbconvert_exporter": "python",
   "pygments_lexer": "ipython3",
   "version": "3.7.3"
  }
 },
 "nbformat": 4,
 "nbformat_minor": 2
}
