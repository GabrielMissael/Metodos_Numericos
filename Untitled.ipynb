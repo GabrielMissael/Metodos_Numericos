{
 "cells": [
  {
   "cell_type": "code",
   "execution_count": 4,
   "metadata": {},
   "outputs": [],
   "source": [
    "import numpy as np\n",
    "import matplotlib as plt\n",
    "import math as math\n",
    "\n",
    "#TRAPEZOIDAL RULE and SIMPSON´S RULE\n",
    "\n",
    "#Paso para integración\n",
    "h = 0.001\n",
    "\n",
    "\n",
    "#Función a integrar\n",
    "#A\n",
    "def f(x):\n",
    "    return x**4\n",
    "\n",
    "#B\n",
    "def f(x):\n",
    "    return 2/(x-4)\n",
    "    \n",
    "#C\n",
    "def f(x):\n",
    "    return mt.log(x)*x**2\n",
    "\n",
    "#D\n",
    "def f(x):\n",
    "    return mt.exp(x)x**2\n",
    "\n",
    "#E\n",
    "def f(x)\n",
    "    return \n",
    "#Trapecio\n",
    "T = h/2*(f(x0) + f(x1))\n",
    "\n",
    "#simpson\n",
    "S = h/3*(f(x0) + 4f(x1) + f(x2))\n",
    "\n",
    "print(f\"Trapecio: {T} \\nSimpson: {S}\")\n",
    "    "
   ]
  },
  {
   "cell_type": "code",
   "execution_count": null,
   "metadata": {},
   "outputs": [],
   "source": []
  }
 ],
 "metadata": {
  "kernelspec": {
   "display_name": "Python 3",
   "language": "python",
   "name": "python3"
  },
  "language_info": {
   "codemirror_mode": {
    "name": "ipython",
    "version": 3
   },
   "file_extension": ".py",
   "mimetype": "text/x-python",
   "name": "python",
   "nbconvert_exporter": "python",
   "pygments_lexer": "ipython3",
   "version": "3.7.3"
  }
 },
 "nbformat": 4,
 "nbformat_minor": 2
}
