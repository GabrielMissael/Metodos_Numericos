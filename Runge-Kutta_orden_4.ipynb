{
 "cells": [
  {
   "cell_type": "raw",
   "metadata": {},
   "source": [
    "#Ejercicio A\n",
    "a = 0\n",
    "b = 1\n",
    "h = 0.5\n",
    "al = 0\n",
    "def f(t, w):\n",
    "    return (t*mt.exp(3*t) - 2*w)\n",
    "x = np.arange(a, b, 0.0001)\n",
    "def y(x):\n",
    "    return (1/5)*x*np.exp(3*x)-(1/25)*np.exp(3*x)+(1/25)*np.exp(-2*x)\n",
    "yy = y(x)\n",
    "\n",
    "#Ejercicio B\n",
    "a = 2\n",
    "b = 3\n",
    "h = 0.5\n",
    "al = 1\n",
    "def f(t, w):\n",
    "    return 1 + (t-w)**2\n",
    "x = np.arange(a, b, 0.0001)\n",
    "def y(x):\n",
    "    return x + 1/(1-x)\n",
    "yy = y(x)\n",
    "\n",
    "#Ejercicio C\n",
    "a = 1\n",
    "b = 2\n",
    "h = 0.25\n",
    "al = 2\n",
    "def f(t, w):\n",
    "    return 1 + w/t\n",
    "x = np.arange(a, b, 0.0001)\n",
    "def y(x):\n",
    "    return x*np.log(x) + 2*x\n",
    "yy = y(x)\n",
    "\n"
   ]
  },
  {
   "cell_type": "code",
   "execution_count": 74,
   "metadata": {},
   "outputs": [],
   "source": [
    "#Importo librerias a utilizar\n",
    "import numpy as np\n",
    "import matplotlib.pyplot as plt\n",
    "import math as mt\n",
    "\n",
    "e = 2.7182818284590452353602874713527\n",
    "\n",
    "#Ejericio 1 sección 5.4\n",
    "\n",
    "#Ejercicio D\n",
    "a = 0\n",
    "b = 1\n",
    "h = 0.25\n",
    "al = 1\n",
    "def f(t, w):\n",
    "    return mt.cos(2*t) + mt.sin(3*t)\n",
    "x = np.arange(a, b, 0.0001)\n",
    "def y(x):\n",
    "    return (1/2)*np.sin(2*x) - (1/3)*np.cos(3*x) + (4/3)\n",
    "yy = y(x)\n",
    "\n",
    "N = int((b-a)/h)+1\n",
    "w = np.zeros(N)\n",
    "t = np.zeros(N)\n",
    "t[0] = a\n",
    "w[0] = al\n",
    "wr = np.zeros(N)\n",
    "tr = np.zeros(N)\n",
    "tr[0] = a\n",
    "wr[0] = al\n",
    "\n",
    "#EULER\n",
    "for i in range(N-1):\n",
    "    w[i+1] = w[i]+h*f(t[i], w[i])\n",
    "    t[i+1] = t[i] + h\n",
    "\n",
    "#Runge-Kutta\n",
    "for i in range(N):\n",
    "    \n",
    "    k1 = h*f(tr[i], wr[i])\n",
    "    k2 = h*f(tr[i] + h/2, wr[i] + k1/2)\n",
    "    k3 = h*f(tr[i] + h/2, wr[i] + k2/2)\n",
    "    k4 = h*f(tr[i] + h, wr[i] + k3)\n",
    "    \n",
    "    if i+1 < N:\n",
    "        wr[i+1] = wr[i] + (k1 + 2*k2 + 2*k3 + k4)/6\n",
    "        tr[i+1] = a + (i+1)*h"
   ]
  },
  {
   "cell_type": "code",
   "execution_count": 76,
   "metadata": {},
   "outputs": [
    {
     "data": {
      "text/plain": [
       "Text(0.5, 1.0, 'Ejercicio D, h=0.25')"
      ]
     },
     "execution_count": 76,
     "metadata": {},
     "output_type": "execute_result"
    },
    {
     "data": {
      "image/png": "[encoded data removed]",
      "text/plain": [
       "<Figure size 432x288 with 1 Axes>"
      ]
     },
     "metadata": {
      "needs_background": "light"
     },
     "output_type": "display_data"
    }
   ],
   "source": [
    "#Grafico la aprox por euler\n",
    "plt.plot(t, w, \"o-\", label=\"Euler\")\n",
    "\n",
    "#Grafico la aprox por Runge-Kutta\n",
    "plt.plot(tr, wr, \"o-\", label = \"Runge-Kutta\")\n",
    "\n",
    "#Grafico solución real \n",
    "plt.plot(x, yy, \"-\", label=\"Solución\")\n",
    "\n",
    "#Agrego etiquetas de la grafica\n",
    "plt.legend(loc = \"upper left\")\n",
    "plt.title(\"Ejercicio D, h=0.25\")"
   ]
  },
  {
   "cell_type": "code",
   "execution_count": 78,
   "metadata": {},
   "outputs": [
    {
     "name": "stdout",
     "output_type": "stream",
     "text": [
      "Euler \n",
      " N \t\t t_i \t\t w_i \t\t y_i \t\t Error\n",
      "1.000000 \t 0.000000 \t 1.000000 \t 1.000000 \t 0.000000\n",
      "2.000000 \t 0.250000 \t 1.250000 \t 1.329150 \t 0.079150\n",
      "3.000000 \t 0.500000 \t 1.639805 \t 1.730490 \t 0.090684\n",
      "4.000000 \t 0.750000 \t 2.024255 \t 2.041472 \t 0.017217\n",
      "5.000000 \t 1.000000 \t 2.236457 \t 2.117980 \t 0.118478\n"
     ]
    }
   ],
   "source": [
    "#Imprimo el numero del punto, el valor de t (de x) la aprox por euler, el valor real y el error abs\n",
    "print(\"Euler \\n N \\t\\t t_i \\t\\t w_i \\t\\t y_i \\t\\t Error\")\n",
    "for i in range(N):\n",
    "    print(\"{:.6f} \\t {:.6f} \\t {:.6f} \\t {:.6f} \\t {:.6f}\".format(i+1, t[i], w[i], y(t[i]), abs(w[i]-y(t[i]))))"
   ]
  },
  {
   "cell_type": "code",
   "execution_count": 79,
   "metadata": {},
   "outputs": [
    {
     "name": "stdout",
     "output_type": "stream",
     "text": [
      "Runge-Kutta \n",
      " N \t\t t_i \t\t w_i \t\t y_i \t\t Error\n",
      "1.000000 \t 0.000000 \t 1.000000 \t 1.000000 \t 0.000000\n",
      "2.000000 \t 0.250000 \t 1.329165 \t 1.329150 \t 0.000015\n",
      "3.000000 \t 0.500000 \t 1.730534 \t 1.730490 \t 0.000044\n",
      "4.000000 \t 0.750000 \t 2.041544 \t 2.041472 \t 0.000072\n",
      "5.000000 \t 1.000000 \t 2.118064 \t 2.117980 \t 0.000084\n"
     ]
    }
   ],
   "source": [
    "#Imprimo el numero del punto, el valor de t (de x) la aprox por Runge-Kutta, el valor real y el error abs\n",
    "print(\"Runge-Kutta \\n N \\t\\t t_i \\t\\t w_i \\t\\t y_i \\t\\t Error\")\n",
    "for i in range(N):\n",
    "    print(\"{:.6f} \\t {:.6f} \\t {:.6f} \\t {:.6f} \\t {:.6f}\".format(i+1, tr[i], wr[i], y(tr[i]), abs(wr[i]-y(tr[i]))))"
   ]
  },
  {
   "cell_type": "code",
   "execution_count": null,
   "metadata": {},
   "outputs": [],
   "source": []
  }
 ],
 "metadata": {
  "kernelspec": {
   "display_name": "Python 3",
   "language": "python",
   "name": "python3"
  },
  "language_info": {
   "codemirror_mode": {
    "name": "ipython",
    "version": 3
   },
   "file_extension": ".py",
   "mimetype": "text/x-python",
   "name": "python",
   "nbconvert_exporter": "python",
   "pygments_lexer": "ipython3",
   "version": "3.7.3"
  }
 },
 "nbformat": 4,
 "nbformat_minor": 2
}
