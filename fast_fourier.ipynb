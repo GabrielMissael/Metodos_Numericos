{
 "cells": [
  {
   "cell_type": "code",
   "execution_count": 109,
   "metadata": {},
   "outputs": [
    {
     "name": "stdout",
     "output_type": "stream",
     "text": [
      "-0.15268184659588457 + (1.176143201623286)cos4x + (0.047542784699089236)cos1x + (0.686211436074576)cos2x + (-1.216913269932927)cos3x + (-0.0)sin0x + (-0.8179387079519563)sin1x + (--0.1802449973662844)sin2x + (--0.27534022636283273)sin3x + (-0.0)sin4x + "
     ]
    },
    {
     "data": {
      "image/png": "[encoded data removed]",
      "text/plain": [
       "<Figure size 432x288 with 1 Axes>"
      ]
     },
     "metadata": {
      "needs_background": "light"
     },
     "output_type": "display_data"
    }
   ],
   "source": [
    "#De la libreria scipy importamos la función para fast fourier transform (fft)\n",
    "from scipy.fftpack import fft\n",
    "\n",
    "#Importamos librerias shidas para mate\n",
    "import numpy as np\n",
    "import math as mt\n",
    "\n",
    "#Importamos libreria para graficar\n",
    "import matplotlib.pyplot as plt\n",
    "\n",
    "#Definimos la funcion\n",
    "\n",
    "#EJERCICIO 3A\n",
    "#def f(x):\n",
    "#    r = mt.pi*(x - mt.pi)\n",
    "#    return r\n",
    "\n",
    "#EJERICICO 3B\n",
    "#def f(x):\n",
    "#    r = abs(x)\n",
    "#    return r\n",
    "\n",
    "#EJERICIO 3C\n",
    "#def f(x):\n",
    "#    r = np.cos(mt.pi*x) - 2*np.sin(mt.pi*x)\n",
    "#    return r\n",
    "\n",
    "#EJERICIO 3D\n",
    "def f(x):\n",
    "    r = x*np.cos(x**2) + np.exp(x)*np.cos(np.exp(x))\n",
    "    return r\n",
    "\n",
    "#Obtenemos los puntos del intervalo donde evaluaremos\n",
    "x = np.arange(-mt.pi, mt.pi, mt.pi/4) \n",
    "\n",
    "#Para graficar\n",
    "xTry = np.arange(-mt.pi, mt.pi, 0.001)\n",
    "\n",
    "#Evaluamos la función\n",
    "y = f(x)\n",
    "\n",
    "#Graficamos los puntos sobre los que se realiza la interpolación\n",
    "plt.plot(x, y, \"o\", label=\"Puntos tomados\")\n",
    "plt.plot(xTry, f(xTry), \"-\", label = \"Función original\")\n",
    "\n",
    "#Obtenemos los c_k de fast fourier transform\n",
    "fy = fft(y)\n",
    "\n",
    "#convertimos las parte real y la parte imaginaria de las c_k en las a_k y las b_k, respectivamente\n",
    "for i in range(8):\n",
    "    fy[i] = fy[i]*(-1)**(i)/4\n",
    "    \n",
    "#El a_0 y el a_m van divididos entre dos, no solo entre m\n",
    "\n",
    "#Imprimimos el polinomio resultante\n",
    "print(f\"{fy[0].real/2} + ({fy[4].real/2})cos4x +\", end = \" \")\n",
    "for i in range(1, 4, 1):\n",
    "    print(f\"({fy[i].real})cos{i}x +\", end=\" \")\n",
    "for i in range(0, 5, 1):\n",
    "    print(f\"(-{fy[i].imag})sin{i}x +\", end=\" \")\n",
    "\n",
    "def interpolation(x):\n",
    "    R = fy[0].real/2 + fy[4].real*mt.cos(4*x)/2\n",
    "    for i in range(1, 4, 1):\n",
    "        R += fy[i].real*mt.cos(i*x)\n",
    "    for i in range(0, 5, 1):\n",
    "        R += -fy[i].imag*mt.sin(i*x)\n",
    "    return R\n",
    "\n",
    "xTry = np.arange(-mt.pi, mt.pi, 0.001)\n",
    "#fyTry = np.arange(-mt.pi, mt.pi, 0.001)\n",
    "j = 0\n",
    "for i in xTry:\n",
    "    fyTry[j] = interpolation(xTry[j])\n",
    "    j += 1\n",
    "\n",
    "plt.plot(xTry, fyTry, label = \"Interpolación\")\n",
    "\n",
    "plt.legend(loc = \"lower left\")\n",
    "plt.title(\"Ejercicio 3C\")\n",
    "plt.grid()"
   ]
  },
  {
   "cell_type": "code",
   "execution_count": 11,
   "metadata": {},
   "outputs": [
    {
     "name": "stdout",
     "output_type": "stream",
     "text": [
      "1\n",
      "2\n",
      "3\n",
      "4\n"
     ]
    }
   ],
   "source": []
  },
  {
   "cell_type": "code",
   "execution_count": 17,
   "metadata": {},
   "outputs": [
    {
     "name": "stdout",
     "output_type": "stream",
     "text": [
      "5j\n"
     ]
    }
   ],
   "source": []
  },
  {
   "cell_type": "markdown",
   "metadata": {},
   "source": []
  }
 ],
 "metadata": {
  "kernelspec": {
   "display_name": "Python 3",
   "language": "python",
   "name": "python3"
  },
  "language_info": {
   "codemirror_mode": {
    "name": "ipython",
    "version": 3
   },
   "file_extension": ".py",
   "mimetype": "text/x-python",
   "name": "python",
   "nbconvert_exporter": "python",
   "pygments_lexer": "ipython3",
   "version": "3.7.3"
  }
 },
 "nbformat": 4,
 "nbformat_minor": 2
}
